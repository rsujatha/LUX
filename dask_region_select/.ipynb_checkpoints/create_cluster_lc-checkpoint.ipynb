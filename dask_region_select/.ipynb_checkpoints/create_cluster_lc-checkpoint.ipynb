{
 "cells": [
  {
   "cell_type": "code",
   "execution_count": 1,
   "id": "2a182a75-cd92-4f0c-9b90-5833b6ff0888",
   "metadata": {},
   "outputs": [
    {
     "ename": "ValueError",
     "evalue": "Got unexpected keyword argument 'job_script_epilogue'. Very likely this unexpected parameter was passed in \"job_kwargs\" in the HTCondorCluster constructor:\njob_kwargs={'cores': 1, 'memory': '32 GB', 'disk': '10 GB', 'job_extra_directives': {'requirements': '(CPU_MODEL =!= \"Intel(R) Xeon(R) CPU E5-2680 v4 @ 2.40GHz\") && (CPU_MODEL =!= \"AMD EPYC 7452 32-Core Processor\")', 'getenv': 'True'}, 'job_script_prologue': ['mkdir -p /tmp/142', 'if ! mountpoint -q /tmp/142; then squashfuse_ll /pnfs/pic.es/data/astro/cosmohub/disk/flamingo/142.squashfs /tmp/142; fi'], 'job_script_epilogue': ['if mountpoint -q /tmp/142; then fusermount -u /tmp/142; fi', 'rmdir /tmp/142'], 'config_name': 'htcondor', 'interface': None, 'protocol': None, 'security': None}",
     "output_type": "error",
     "traceback": [
      "\u001b[0;31m---------------------------------------------------------------------------\u001b[0m",
      "\u001b[0;31mTypeError\u001b[0m                                 Traceback (most recent call last)",
      "File \u001b[0;32m~/env/uchuu/lib64/python3.9/site-packages/dask_jobqueue/core.py:681\u001b[0m, in \u001b[0;36mJobQueueCluster._dummy_job\u001b[0;34m(self)\u001b[0m\n\u001b[1;32m    680\u001b[0m \u001b[38;5;28;01mtry\u001b[39;00m:\n\u001b[0;32m--> 681\u001b[0m     \u001b[38;5;28;01mreturn\u001b[39;00m \u001b[38;5;28;43mself\u001b[39;49m\u001b[38;5;241;43m.\u001b[39;49m\u001b[43mjob_cls\u001b[49m\u001b[43m(\u001b[49m\n\u001b[1;32m    682\u001b[0m \u001b[43m        \u001b[49m\u001b[43maddress\u001b[49m\u001b[43m \u001b[49m\u001b[38;5;129;43;01mor\u001b[39;49;00m\u001b[43m \u001b[49m\u001b[38;5;124;43m\"\u001b[39;49m\u001b[38;5;124;43mtcp://<insert-scheduler-address-here>:8786\u001b[39;49m\u001b[38;5;124;43m\"\u001b[39;49m\u001b[43m,\u001b[49m\n\u001b[1;32m    683\u001b[0m \u001b[43m        \u001b[49m\u001b[38;5;66;43;03m# The 'name' parameter is replaced inside Job class by the\u001b[39;49;00m\n\u001b[1;32m    684\u001b[0m \u001b[43m        \u001b[49m\u001b[38;5;66;43;03m# actual Dask worker name. Using 'dummy-name here' to make it\u001b[39;49;00m\n\u001b[1;32m    685\u001b[0m \u001b[43m        \u001b[49m\u001b[38;5;66;43;03m# more clear that cluster.job_script() is similar to but not\u001b[39;49;00m\n\u001b[1;32m    686\u001b[0m \u001b[43m        \u001b[49m\u001b[38;5;66;43;03m# exactly the same script as the script submitted for each Dask\u001b[39;49;00m\n\u001b[1;32m    687\u001b[0m \u001b[43m        \u001b[49m\u001b[38;5;66;43;03m# worker\u001b[39;49;00m\n\u001b[1;32m    688\u001b[0m \u001b[43m        \u001b[49m\u001b[43mname\u001b[49m\u001b[38;5;241;43m=\u001b[39;49m\u001b[38;5;124;43m\"\u001b[39;49m\u001b[38;5;124;43mdummy-name\u001b[39;49m\u001b[38;5;124;43m\"\u001b[39;49m\u001b[43m,\u001b[49m\n\u001b[1;32m    689\u001b[0m \u001b[43m        \u001b[49m\u001b[38;5;241;43m*\u001b[39;49m\u001b[38;5;241;43m*\u001b[39;49m\u001b[38;5;28;43mself\u001b[39;49m\u001b[38;5;241;43m.\u001b[39;49m\u001b[43m_job_kwargs\u001b[49m\n\u001b[1;32m    690\u001b[0m \u001b[43m    \u001b[49m\u001b[43m)\u001b[49m\n\u001b[1;32m    691\u001b[0m \u001b[38;5;28;01mexcept\u001b[39;00m \u001b[38;5;167;01mTypeError\u001b[39;00m \u001b[38;5;28;01mas\u001b[39;00m exc:\n\u001b[1;32m    692\u001b[0m     \u001b[38;5;66;03m# Very likely this error happened in the self.job_cls constructor\u001b[39;00m\n\u001b[1;32m    693\u001b[0m     \u001b[38;5;66;03m# because an unexpected parameter was used in the JobQueueCluster\u001b[39;00m\n\u001b[1;32m    694\u001b[0m     \u001b[38;5;66;03m# constructor. The next few lines builds a more user-friendly error message.\u001b[39;00m\n",
      "File \u001b[0;32m~/env/uchuu/lib64/python3.9/site-packages/dask_jobqueue/htcondor.py:45\u001b[0m, in \u001b[0;36mHTCondorJob.__init__\u001b[0;34m(self, scheduler, name, disk, config_name, submit_command_extra, cancel_command_extra, **base_class_kwargs)\u001b[0m\n\u001b[1;32m     35\u001b[0m \u001b[38;5;28;01mdef\u001b[39;00m\u001b[38;5;250m \u001b[39m\u001b[38;5;21m__init__\u001b[39m(\n\u001b[1;32m     36\u001b[0m     \u001b[38;5;28mself\u001b[39m,\n\u001b[1;32m     37\u001b[0m     scheduler\u001b[38;5;241m=\u001b[39m\u001b[38;5;28;01mNone\u001b[39;00m,\n\u001b[0;32m   (...)\u001b[0m\n\u001b[1;32m     43\u001b[0m     \u001b[38;5;241m*\u001b[39m\u001b[38;5;241m*\u001b[39mbase_class_kwargs\n\u001b[1;32m     44\u001b[0m ):\n\u001b[0;32m---> 45\u001b[0m     \u001b[38;5;28;43msuper\u001b[39;49m\u001b[43m(\u001b[49m\u001b[43m)\u001b[49m\u001b[38;5;241;43m.\u001b[39;49m\u001b[38;5;21;43m__init__\u001b[39;49m\u001b[43m(\u001b[49m\n\u001b[1;32m     46\u001b[0m \u001b[43m        \u001b[49m\u001b[43mscheduler\u001b[49m\u001b[38;5;241;43m=\u001b[39;49m\u001b[43mscheduler\u001b[49m\u001b[43m,\u001b[49m\u001b[43m \u001b[49m\u001b[43mname\u001b[49m\u001b[38;5;241;43m=\u001b[39;49m\u001b[43mname\u001b[49m\u001b[43m,\u001b[49m\u001b[43m \u001b[49m\u001b[43mconfig_name\u001b[49m\u001b[38;5;241;43m=\u001b[39;49m\u001b[43mconfig_name\u001b[49m\u001b[43m,\u001b[49m\u001b[43m \u001b[49m\u001b[38;5;241;43m*\u001b[39;49m\u001b[38;5;241;43m*\u001b[39;49m\u001b[43mbase_class_kwargs\u001b[49m\n\u001b[1;32m     47\u001b[0m \u001b[43m    \u001b[49m\u001b[43m)\u001b[49m\n\u001b[1;32m     49\u001b[0m     \u001b[38;5;28;01mif\u001b[39;00m disk \u001b[38;5;129;01mis\u001b[39;00m \u001b[38;5;28;01mNone\u001b[39;00m:\n",
      "\u001b[0;31mTypeError\u001b[0m: __init__() got an unexpected keyword argument 'job_script_epilogue'",
      "\nThe above exception was the direct cause of the following exception:\n",
      "\u001b[0;31mValueError\u001b[0m                                Traceback (most recent call last)",
      "Cell \u001b[0;32mIn[1], line 24\u001b[0m\n\u001b[1;32m     21\u001b[0m extra \u001b[38;5;241m=\u001b[39m {\u001b[38;5;124m'\u001b[39m\u001b[38;5;124mrequirements\u001b[39m\u001b[38;5;124m'\u001b[39m: req} \u001b[38;5;66;03m#'CPU_MODEL =!= \"Intel(R) Xeon(R) CPU E5-2680 v4 @ 2.40GHz\"'}\u001b[39;00m\n\u001b[1;32m     22\u001b[0m extra[\u001b[38;5;124m'\u001b[39m\u001b[38;5;124mgetenv\u001b[39m\u001b[38;5;124m'\u001b[39m] \u001b[38;5;241m=\u001b[39m \u001b[38;5;124m'\u001b[39m\u001b[38;5;124mTrue\u001b[39m\u001b[38;5;124m'\u001b[39m\n\u001b[0;32m---> 24\u001b[0m cluster \u001b[38;5;241m=\u001b[39m \u001b[43mHTCondorCluster\u001b[49m\u001b[43m(\u001b[49m\u001b[43mcores\u001b[49m\u001b[38;5;241;43m=\u001b[39;49m\u001b[38;5;241;43m1\u001b[39;49m\u001b[43m,\u001b[49m\u001b[43m \u001b[49m\u001b[43mmemory\u001b[49m\u001b[38;5;241;43m=\u001b[39;49m\u001b[38;5;124;43m'\u001b[39;49m\u001b[38;5;124;43m32 GB\u001b[39;49m\u001b[38;5;124;43m'\u001b[39;49m\u001b[43m,\u001b[49m\u001b[43m \u001b[49m\u001b[43mdisk\u001b[49m\u001b[38;5;241;43m=\u001b[39;49m\u001b[38;5;124;43m'\u001b[39;49m\u001b[38;5;124;43m10 GB\u001b[39;49m\u001b[38;5;124;43m'\u001b[39;49m\u001b[43m,\u001b[49m\u001b[43m \u001b[49m\u001b[43mjob_extra_directives\u001b[49m\u001b[38;5;241;43m=\u001b[39;49m\u001b[43mextra\u001b[49m\u001b[43m,\u001b[49m\u001b[43mjob_script_prologue\u001b[49m\u001b[38;5;241;43m=\u001b[39;49m\u001b[43mmount_script\u001b[49m\u001b[43m,\u001b[49m\u001b[43mjob_script_epilogue\u001b[49m\u001b[38;5;241;43m=\u001b[39;49m\u001b[43munmount_script\u001b[49m\u001b[43m)\u001b[49m \u001b[38;5;66;03m# neede\u001b[39;00m\n",
      "File \u001b[0;32m~/env/uchuu/lib64/python3.9/site-packages/dask_jobqueue/core.py:652\u001b[0m, in \u001b[0;36mJobQueueCluster.__init__\u001b[0;34m(self, n_workers, job_cls, loop, security, shared_temp_directory, silence_logs, name, asynchronous, dashboard_address, host, scheduler_options, scheduler_cls, interface, protocol, config_name, **job_kwargs)\u001b[0m\n\u001b[1;32m    647\u001b[0m \u001b[38;5;28;01mif\u001b[39;00m \u001b[38;5;124m\"\u001b[39m\u001b[38;5;124mprocesses\u001b[39m\u001b[38;5;124m\"\u001b[39m \u001b[38;5;129;01min\u001b[39;00m \u001b[38;5;28mself\u001b[39m\u001b[38;5;241m.\u001b[39m_job_kwargs \u001b[38;5;129;01mand\u001b[39;00m \u001b[38;5;28mself\u001b[39m\u001b[38;5;241m.\u001b[39m_job_kwargs[\u001b[38;5;124m\"\u001b[39m\u001b[38;5;124mprocesses\u001b[39m\u001b[38;5;124m\"\u001b[39m] \u001b[38;5;241m>\u001b[39m \u001b[38;5;241m1\u001b[39m:\n\u001b[1;32m    648\u001b[0m     worker[\u001b[38;5;124m\"\u001b[39m\u001b[38;5;124mgroup\u001b[39m\u001b[38;5;124m\"\u001b[39m] \u001b[38;5;241m=\u001b[39m [\n\u001b[1;32m    649\u001b[0m         \u001b[38;5;124m\"\u001b[39m\u001b[38;5;124m-\u001b[39m\u001b[38;5;124m\"\u001b[39m \u001b[38;5;241m+\u001b[39m \u001b[38;5;28mstr\u001b[39m(i) \u001b[38;5;28;01mfor\u001b[39;00m i \u001b[38;5;129;01min\u001b[39;00m \u001b[38;5;28mrange\u001b[39m(\u001b[38;5;28mself\u001b[39m\u001b[38;5;241m.\u001b[39m_job_kwargs[\u001b[38;5;124m\"\u001b[39m\u001b[38;5;124mprocesses\u001b[39m\u001b[38;5;124m\"\u001b[39m])\n\u001b[1;32m    650\u001b[0m     ]\n\u001b[0;32m--> 652\u001b[0m \u001b[38;5;28;43mself\u001b[39;49m\u001b[38;5;241;43m.\u001b[39;49m\u001b[43m_dummy_job\u001b[49m  \u001b[38;5;66;03m# trigger property to ensure that the job is valid\u001b[39;00m\n\u001b[1;32m    654\u001b[0m \u001b[38;5;28msuper\u001b[39m()\u001b[38;5;241m.\u001b[39m\u001b[38;5;21m__init__\u001b[39m(\n\u001b[1;32m    655\u001b[0m     scheduler\u001b[38;5;241m=\u001b[39mscheduler,\n\u001b[1;32m    656\u001b[0m     worker\u001b[38;5;241m=\u001b[39mworker,\n\u001b[0;32m   (...)\u001b[0m\n\u001b[1;32m    661\u001b[0m     name\u001b[38;5;241m=\u001b[39mname,\n\u001b[1;32m    662\u001b[0m )\n\u001b[1;32m    664\u001b[0m \u001b[38;5;28;01mif\u001b[39;00m n_workers:\n",
      "File \u001b[0;32m~/env/uchuu/lib64/python3.9/site-packages/dask_jobqueue/core.py:699\u001b[0m, in \u001b[0;36mJobQueueCluster._dummy_job\u001b[0;34m(self)\u001b[0m\n\u001b[1;32m    697\u001b[0m     \u001b[38;5;28;01mraise\u001b[39;00m\n\u001b[1;32m    698\u001b[0m message_orig \u001b[38;5;241m=\u001b[39m match\u001b[38;5;241m.\u001b[39mgroup(\u001b[38;5;241m1\u001b[39m)\n\u001b[0;32m--> 699\u001b[0m \u001b[38;5;28;01mraise\u001b[39;00m \u001b[38;5;167;01mValueError\u001b[39;00m(\n\u001b[1;32m    700\u001b[0m     \u001b[38;5;124m'\u001b[39m\u001b[38;5;124mGot \u001b[39m\u001b[38;5;132;01m{}\u001b[39;00m\u001b[38;5;124m. Very likely this unexpected parameter was passed in \u001b[39m\u001b[38;5;124m\"\u001b[39m\u001b[38;5;124mjob_kwargs\u001b[39m\u001b[38;5;124m\"\u001b[39m\u001b[38;5;124m in the \u001b[39m\u001b[38;5;132;01m{}\u001b[39;00m\u001b[38;5;124m constructor:\u001b[39m\u001b[38;5;130;01m\\n\u001b[39;00m\u001b[38;5;124m'\u001b[39m\n\u001b[1;32m    701\u001b[0m     \u001b[38;5;124m\"\u001b[39m\u001b[38;5;124mjob_kwargs=\u001b[39m\u001b[38;5;132;01m{}\u001b[39;00m\u001b[38;5;124m\"\u001b[39m\u001b[38;5;241m.\u001b[39mformat(\n\u001b[1;32m    702\u001b[0m         message_orig, \u001b[38;5;28mself\u001b[39m\u001b[38;5;241m.\u001b[39m\u001b[38;5;18m__class__\u001b[39m\u001b[38;5;241m.\u001b[39m\u001b[38;5;18m__name__\u001b[39m, \u001b[38;5;28mself\u001b[39m\u001b[38;5;241m.\u001b[39m_job_kwargs\n\u001b[1;32m    703\u001b[0m     )\n\u001b[1;32m    704\u001b[0m ) \u001b[38;5;28;01mfrom\u001b[39;00m\u001b[38;5;250m \u001b[39m\u001b[38;5;21;01mexc\u001b[39;00m\n",
      "\u001b[0;31mValueError\u001b[0m: Got unexpected keyword argument 'job_script_epilogue'. Very likely this unexpected parameter was passed in \"job_kwargs\" in the HTCondorCluster constructor:\njob_kwargs={'cores': 1, 'memory': '32 GB', 'disk': '10 GB', 'job_extra_directives': {'requirements': '(CPU_MODEL =!= \"Intel(R) Xeon(R) CPU E5-2680 v4 @ 2.40GHz\") && (CPU_MODEL =!= \"AMD EPYC 7452 32-Core Processor\")', 'getenv': 'True'}, 'job_script_prologue': ['mkdir -p /tmp/142', 'if ! mountpoint -q /tmp/142; then squashfuse_ll /pnfs/pic.es/data/astro/cosmohub/disk/flamingo/142.squashfs /tmp/142; fi'], 'job_script_epilogue': ['if mountpoint -q /tmp/142; then fusermount -u /tmp/142; fi', 'rmdir /tmp/142'], 'config_name': 'htcondor', 'interface': None, 'protocol': None, 'security': None}"
     ]
    }
   ],
   "source": [
    "from dask_jobqueue import HTCondorCluster\n",
    "from dask.distributed import Client\n",
    "\n",
    "import dask.array as da\n",
    "\n",
    "# Specify the squashfs file and mount point\n",
    "snap = '142'\n",
    "snapshot_path = \"/pnfs/pic.es/data/astro/cosmohub/disk/flamingo/\" + snap + \".squashfs\"\n",
    "mount_point = f\"/tmp/{snap}\"\n",
    "\n",
    "# This will run on the worker node *in the shell*, not in the submit file.\n",
    "mount_script = [\n",
    "    f\"mkdir -p {mount_point}\",\n",
    "    f\"if ! mountpoint -q {mount_point}; then squashfuse_ll {snapshot_path} {mount_point}; fi\"\n",
    "    f\"trap 'fusermount -u {mount_point}; rmdir {mount_point}' EXIT\"\n",
    "]\n",
    "\n",
    "req = '(CPU_MODEL =!= \"Intel(R) Xeon(R) CPU E5-2680 v4 @ 2.40GHz\") && (CPU_MODEL =!= \"AMD EPYC 7452 32-Core Processor\")'\n",
    "extra = {'requirements': req} #'CPU_MODEL =!= \"Intel(R) Xeon(R) CPU E5-2680 v4 @ 2.40GHz\"'}\n",
    "extra['getenv'] = 'True'\n",
    "\n",
    "cluster = HTCondorCluster(cores=1, memory='32 GB', disk='10 GB', job_extra_directives=extra,job_script_prologue=mount_script,job_script_epilogue=unmount_script) # neede\n"
   ]
  },
  {
   "cell_type": "code",
   "execution_count": null,
   "id": "90cc7f4c-4d90-4435-801d-5dd5cd61c82f",
   "metadata": {},
   "outputs": [],
   "source": [
    "cluster.scale(50)"
   ]
  },
  {
   "cell_type": "code",
   "execution_count": null,
   "id": "9628212a-396c-43e3-ae4a-2b77c760f1be",
   "metadata": {},
   "outputs": [],
   "source": [
    "cluster"
   ]
  },
  {
   "cell_type": "code",
   "execution_count": null,
   "id": "235b6643-634e-43ed-92bc-26c042c51327",
   "metadata": {},
   "outputs": [],
   "source": [
    "import dask"
   ]
  },
  {
   "cell_type": "code",
   "execution_count": null,
   "id": "566f561c-0704-47e7-9180-71c9e118ff25",
   "metadata": {},
   "outputs": [],
   "source": [
    "dask.__version__"
   ]
  },
  {
   "cell_type": "code",
   "execution_count": null,
   "id": "a0d5e6f8-8db1-4be6-996f-7f76649a2e74",
   "metadata": {},
   "outputs": [],
   "source": []
  },
  {
   "cell_type": "code",
   "execution_count": null,
   "id": "4d6efb35-5e51-4b93-abe2-1dae4ae4e697",
   "metadata": {},
   "outputs": [],
   "source": []
  }
 ],
 "metadata": {
  "kernelspec": {
   "display_name": "uchuu",
   "language": "python",
   "name": "new-env"
  },
  "language_info": {
   "codemirror_mode": {
    "name": "ipython",
    "version": 3
   },
   "file_extension": ".py",
   "mimetype": "text/x-python",
   "name": "python",
   "nbconvert_exporter": "python",
   "pygments_lexer": "ipython3",
   "version": "3.9.18"
  }
 },
 "nbformat": 4,
 "nbformat_minor": 5
}
