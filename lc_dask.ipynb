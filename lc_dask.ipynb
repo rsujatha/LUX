{
 "cells": [
  {
   "cell_type": "code",
   "execution_count": 1,
   "id": "89229bb3-d4f7-420f-9971-34a79f7187c7",
   "metadata": {},
   "outputs": [],
   "source": [
    "%load_ext autoreload\n",
    "%autoreload 2\n",
    "import  pandas as pd\n",
    "#import lc_module as lm\n",
    "import numpy as np\n",
    "import gc\n",
    "import sys\n",
    "import time\n",
    "from pathlib import Path\n",
    "\n",
    "import dask\n",
    "from dask.distributed import Client\n",
    "import dask.dataframe as dd"
   ]
  },
  {
   "cell_type": "code",
   "execution_count": 2,
   "id": "29b4b567-24e9-4922-87dc-c8ae2f2bfd01",
   "metadata": {},
   "outputs": [],
   "source": [
    "# You need to start the cluster elsewhere.\n",
    "client = Client('tls://192.168.102.39:44701')"
   ]
  },
  {
   "cell_type": "code",
   "execution_count": 3,
   "id": "e84f7203-8df6-45a7-8028-e2fa274dbce5",
   "metadata": {},
   "outputs": [],
   "source": [
    "# Lightcone configuration. \n",
    "BoxLength = 2000.\n",
    "## compute theta_max given a square_coverage_area\n",
    "Area_in_square_degrees = 50 ## A is the area coverage in square degrees that corresponds to the Euclid Deep Survey\n",
    "\n",
    "# define the choose direction as a vector\n",
    "ra = np.radians(31) \n",
    "dec  = np.radians(10)\n",
    "box_info = {\"Box1\":[0,0,0],\"Box2\":[BoxLength,0,0],\"Box3\":[BoxLength,BoxLength,0],\n",
    "            \"Box4\":[2*BoxLength,BoxLength,0]}\n",
    "\n",
    "### Step 1: Read the table to make the JOIN\n",
    "df = pd.read_pickle('../join_table.pkl')\n",
    "path_to_files = '/data/astro/scratch/sramakri/uchuu_selected_region/'\n",
    "\n",
    "jointable = df"
   ]
  },
  {
   "cell_type": "code",
   "execution_count": 4,
   "id": "7fc0a83b-120a-4eb4-ba12-e00a05a11141",
   "metadata": {},
   "outputs": [
    {
     "name": "stdout",
     "output_type": "stream",
     "text": [
      "updated\n"
     ]
    }
   ],
   "source": [
    "#import lc_module as lm\n",
    "import lightcone as lightcone"
   ]
  },
  {
   "cell_type": "code",
   "execution_count": 5,
   "id": "852683d9-b5e3-41cc-b12d-a60aef8259e4",
   "metadata": {},
   "outputs": [],
   "source": [
    "@dask.delayed\n",
    "def wrapper(i):\n",
    "    sys.path.append('/nfs/pic.es/user/s/sramakri/jpynb/lc_interpolator_dask_version')\n",
    "    import lightcone as lightcone\n",
    "    res = lightcone.gen_slice(i,BoxLength,Area_in_square_degrees,ra,dec,box_info,df,path_to_files)\n",
    "    #res['slice'] = i\n",
    "    return res"
   ]
  },
  {
   "cell_type": "code",
   "execution_count": 6,
   "id": "51826356-77d5-44b4-972f-d8b6f480d34e",
   "metadata": {},
   "outputs": [],
   "source": [
    "# Specifying the output columns upfront.\n",
    "meta = pd.DataFrame(columns=['id','pid','upid','scale_of_last_mm', 'x', 'y', 'z','xoff','vx','vy','vz','c_to_a','b_to_a','vrms','vmax','vpeak','a_x','a_y','a_z','jx','jy','jz','spin','rs','rvir','rvmax','m200b','mvir','m200c'], \\\n",
    "                    dtype=np.float32)\n",
    "meta['id'] = meta.id.astype(np.int64)\n",
    "meta['pid'] = meta.pid.astype(np.int64)\n",
    "meta['upid'] = meta.upid.astype(np.int64)"
   ]
  },
  {
   "cell_type": "code",
   "execution_count": 7,
   "id": "9477c530-8da8-4e61-a10c-44cfc61a7f6f",
   "metadata": {},
   "outputs": [
    {
     "data": {
      "text/plain": [
       "<bound method NDFrame.keys of Empty DataFrame\n",
       "Columns: [id, pid, upid, scale_of_last_mm, x, y, z, xoff, vx, vy, vz, c_to_a, b_to_a, vrms, vmax, vpeak, a_x, a_y, a_z, jx, jy, jz, spin, rs, rvir, rvmax, m200b, mvir, m200c]\n",
       "Index: []\n",
       "\n",
       "[0 rows x 29 columns]>"
      ]
     },
     "execution_count": 7,
     "metadata": {},
     "output_type": "execute_result"
    }
   ],
   "source": [
    "meta.keys"
   ]
  },
  {
   "cell_type": "code",
   "execution_count": 28,
   "id": "4b92eb2f-f32a-4800-ad2c-921735df90c3",
   "metadata": {},
   "outputs": [],
   "source": [
    "L = [dd.from_delayed(wrapper(i), meta=meta) for i in range(92)]\n",
    "#L = [dd.from_delayed(wrapper(i), meta=meta) for i in range(3)]"
   ]
  },
  {
   "cell_type": "code",
   "execution_count": 29,
   "id": "74fb9436-c3ec-40c1-a9cc-593cf3f0ba8f",
   "metadata": {},
   "outputs": [],
   "source": [
    "res = dd.concat(L)"
   ]
  },
  {
   "cell_type": "code",
   "execution_count": 30,
   "id": "58e399cd-f4c3-4609-ada8-7ceff0583019",
   "metadata": {},
   "outputs": [],
   "source": [
    "d_out = Path('/data/astro/scratch/sramakri/lc/')"
   ]
  },
  {
   "cell_type": "code",
   "execution_count": 31,
   "id": "1decc5cb-9d21-49cd-8a94-5e6a0107517e",
   "metadata": {},
   "outputs": [
    {
     "name": "stdout",
     "output_type": "stream",
     "text": [
      "time 742.4914708137512\n"
     ]
    }
   ],
   "source": [
    "t1 = time.time()\n",
    "res.to_parquet(d_out / 'lc_v13.pq')\n",
    "print('time', time.time() - t1)"
   ]
  },
  {
   "cell_type": "code",
   "execution_count": null,
   "id": "11f13c19-16b3-4b5a-8fc5-9310d24f0f06",
   "metadata": {},
   "outputs": [],
   "source": []
  },
  {
   "cell_type": "code",
   "execution_count": null,
   "id": "bc08795e-7187-46c5-b79c-9fe1d81d2f90",
   "metadata": {},
   "outputs": [],
   "source": []
  }
 ],
 "metadata": {
  "kernelspec": {
   "display_name": "Python 3 (ipykernel)",
   "language": "python",
   "name": "python3"
  },
  "language_info": {
   "codemirror_mode": {
    "name": "ipython",
    "version": 3
   },
   "file_extension": ".py",
   "mimetype": "text/x-python",
   "name": "python",
   "nbconvert_exporter": "python",
   "pygments_lexer": "ipython3",
   "version": "3.12.9"
  }
 },
 "nbformat": 4,
 "nbformat_minor": 5
}
