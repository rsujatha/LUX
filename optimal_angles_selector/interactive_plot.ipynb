{
 "cells": [
  {
   "cell_type": "code",
   "execution_count": 1,
   "id": "20529d61-3251-42a3-b60f-f37deeae45fa",
   "metadata": {},
   "outputs": [],
   "source": [
    "import healpy as hp"
   ]
  },
  {
   "cell_type": "code",
   "execution_count": 2,
   "id": "ff416932-9712-4756-a652-1b9a0f421291",
   "metadata": {},
   "outputs": [
    {
     "name": "stdout",
     "output_type": "stream",
     "text": [
      "2.25 ratio\n"
     ]
    }
   ],
   "source": [
    "r_lightcone = 45.00  ## corresponding to redshift 10\n",
    "import numpy as np\n",
    "coverage_in_sq_degree = 50\n",
    "BoxL = 20\n",
    "print (r_lightcone/BoxL,'ratio')\n",
    "cos_theta =  1-(coverage_in_sq_degree/2)*np.pi/180**2 ## theta is the angle made with the cone\n",
    "theta = np.arccos(cos_theta)"
   ]
  },
  {
   "cell_type": "code",
   "execution_count": 3,
   "id": "3cf2b370-d166-465c-9443-081e78ceb26b",
   "metadata": {},
   "outputs": [
    {
     "data": {
      "text/plain": [
       "0.06964263622787888"
      ]
     },
     "execution_count": 3,
     "metadata": {},
     "output_type": "execute_result"
    }
   ],
   "source": [
    "theta"
   ]
  },
  {
   "cell_type": "code",
   "execution_count": 19,
   "id": "f0c16935-2e34-4578-8a67-bd5f7965b946",
   "metadata": {},
   "outputs": [],
   "source": [
    "def H(i,j,k,x, y, r_lightcone_by_BoxL,theta,flag=0):\n",
    "    \"\"\"\n",
    "    Generate a 2D spherical top-hat function.\n",
    "    \n",
    "    Parameters:\n",
    "        x (ndarray): Array of x-coordinates.\n",
    "        y (ndarray): Array of y-coordinates.\n",
    "        radius (float): Radius of the spherical top-hat.\n",
    "    \n",
    "    Returns:\n",
    "        ndarray: 2D array representing the spherical top-hat function.\n",
    "    \"\"\"\n",
    "    if flag == 0:\n",
    "        X, Y = np.meshgrid(x, y)  ## here  X is dec , Y is ra\n",
    "    elif flag == 1:\n",
    "        X, Y = x,y\n",
    "    cosdistance = k*np.sin(X) + np.cos(X)*(np.cos(Y)*i+np.sin(Y)*j)\n",
    "    cosradius = ((r_lightcone_by_BoxL)*np.sin(2*theta)*np.sin(theta)+np.cos(theta)*np.sqrt(i**2+j**2+k**2-(r_lightcone_by_BoxL)**2*np.sin(2*theta)**2))\n",
    "    # ~ mask  = cosdistance>= np.cos(radius)\n",
    "    mask  = cosdistance>= cosradius\n",
    "    return mask \n",
    "\n",
    "\n",
    "def analytic_mask(ra,dec,r_lightcone_by_BoxL,theta,flag=0):\n",
    "    N = int(np.ceil(r_lightcone_by_BoxL)) ## make larger if required\n",
    "    i,j,k = 0,0,0\n",
    "    if flag==0:\n",
    "        top_hat = np.zeros([n,n])\n",
    "    elif flag==1:\n",
    "        top_hat = np.zeros([len(ra)])\n",
    "    for i in range(-N,N):\n",
    "    \tfor j in range(-N,N):\n",
    "    \t\tfor k in range(-N,N):\n",
    "    \t\t\tif ((i**2+j**2+k**2)<(r_lightcone_by_BoxL)**2):\n",
    "    \t\t\t\ttop_hat += H(i,j,k,(dec), (ra), r_lightcone_by_BoxL,theta,flag=flag)\n",
    "    return top_hat"
   ]
  },
  {
   "cell_type": "code",
   "execution_count": 20,
   "id": "189ebb22-966e-41e5-b2b7-6d504e0883c4",
   "metadata": {},
   "outputs": [],
   "source": [
    "n=400\n",
    "dec = np.linspace(0.01,np.pi/2-0.1,n)\n",
    "ra = np.linspace(0.01,np.pi/2-0.1,n)"
   ]
  },
  {
   "cell_type": "code",
   "execution_count": 21,
   "id": "2f66354c-a004-456f-9a7e-a41530911e42",
   "metadata": {},
   "outputs": [],
   "source": [
    "from matplotlib.colors import ListedColormap\n",
    "import matplotlib.pyplot as plt\n",
    "coolwarm = plt.cm.coolwarm\n",
    "binary_cmap = ListedColormap([coolwarm(0.01), coolwarm(0.99)])  # Blue (0), Red (1)"
   ]
  },
  {
   "cell_type": "code",
   "execution_count": 22,
   "id": "524dac1c-f369-426f-82a9-205b5b34c03e",
   "metadata": {},
   "outputs": [
    {
     "name": "stdout",
     "output_type": "stream",
     "text": [
      "(12288,) (12288,)\n"
     ]
    }
   ],
   "source": [
    "nside = 32\n",
    "npix = hp.nside2npix(nside)\n",
    "theta0, phi0 = hp.pix2ang(nside, np.arange(npix))\n",
    "# Convert to RA and Dec\n",
    "RA = (phi0)  # Phi is the azimuthal angle (longitude)\n",
    "DEC = np.pi/2 - (theta0)  # Theta is the polar angle (co-latitude)\n",
    "print (RA.shape,DEC.shape)"
   ]
  },
  {
   "cell_type": "code",
   "execution_count": 57,
   "id": "db73f9d9-41f5-4a34-9ec0-cbaea3866190",
   "metadata": {},
   "outputs": [
    {
     "data": {
      "application/vnd.jupyter.widget-view+json": {
       "model_id": "e600efcf30524700b79ae420bb0bb3a0",
       "version_major": 2,
       "version_minor": 0
      },
      "text/plain": [
       "interactive(children=(FloatSlider(value=3.0, description='l/L', max=5.0, min=0.1), FloatSlider(value=4.0, desc…"
      ]
     },
     "metadata": {},
     "output_type": "display_data"
    }
   ],
   "source": [
    "import numpy as np\n",
    "import plotly.graph_objects as go\n",
    "import warnings\n",
    "warnings.filterwarnings('ignore')\n",
    "import numpy as np\n",
    "import healpy as hp\n",
    "import matplotlib.pyplot as plt\n",
    "from ipywidgets import interact, FloatSlider, IntSlider, FloatText, fixed\n",
    "from ipywidgets import interact_manual\n",
    "\n",
    "from functools import lru_cache\n",
    "\n",
    "\n",
    "@lru_cache(maxsize=32)\n",
    "def cached_mask(r_lightcone_by_BoxL, theta_deg):\n",
    "    theta_rad = np.radians(theta_deg)\n",
    "    return analytic_mask(RA, DEC, r_lightcone_by_BoxL, theta_rad, flag=1)\n",
    "\n",
    "def plot_mask(r_lightcone_by_BoxL, theta):\n",
    "    Z = cached_mask(r_lightcone_by_BoxL, theta)\n",
    "\n",
    "    #theta= np.radians(theta)\n",
    "    #Z = analytic_mask(RA, DEC, r_lightcone_by_BoxL, theta, flag=1)\n",
    "    Z = np.clip(Z, 0, 1)\n",
    "    fig = go.Figure(data=go.Scattergeo(lon=np.degrees(RA) - 180,  # Shift for Mollweide plot (Plotly expects -180 to 180)\n",
    "                                       lat=np.degrees(DEC),mode='markers',marker=dict(size=7,symbol='diamond',color=Z,cmin=0,cmax=1,\n",
    "        #colorbar=dict(title='Mask Value'),\n",
    "        colorbar=dict(tickvals=[0, 1],ticktext=['Unique\\nstructures', 'Repeated\\nstructures'],x=-0.1,len=0.5), \n",
    "        colorscale=[[0, '#FEE08B'], [1, '#999999']],  # grey → green\n",
    "        reversescale=False,\n",
    "        showscale=True),\n",
    "    text=[f\"RA: {ra:.2f}°, DEC: {dec:.2f}°, Value: {val:.3f}\" for ra, dec, val in zip(RA, DEC, Z)],\n",
    "    hoverinfo='text'))\n",
    "\n",
    "    fig.update_geos(\n",
    "    projection_type=\"mollweide\",\n",
    "    showcountries=False,\n",
    "    showcoastlines=False,\n",
    "    showland=False,\n",
    "    lataxis_showgrid=True,\n",
    "    lonaxis_showgrid=True)\n",
    "\n",
    "    fig.update_layout(\n",
    "    title=(\n",
    "        \"Lightcone Mask Visualization<br>\"\n",
    "        \"<sub>L/Lbox: Ratio of lightcone to box size | \"\n",
    "        \"θ: Light cone angular radius (degrees)</sub><br>\"\n",
    "    ),\n",
    "    width=850,\n",
    "    height=650,\n",
    "    margin=dict(l=0, r=0, t=40, b=0))\n",
    "    fig.show()\n",
    "\n",
    "from ipywidgets import interact_manual\n",
    "interact_manual(plot_mask,\n",
    "                r_lightcone_by_BoxL=FloatSlider(value=3.0, min=0.1, max=5.0, step=0.1, description='l/L'),\n",
    "                theta=FloatSlider(value=4, min=0.1, max=14, step=0.5, description='$\\\\theta$ (deg)'));\n",
    "\n"
   ]
  },
  {
   "cell_type": "code",
   "execution_count": null,
   "id": "205fcce2-01f0-47f2-81ad-25cd5f5fec1d",
   "metadata": {},
   "outputs": [],
   "source": []
  }
 ],
 "metadata": {
  "kernelspec": {
   "display_name": "uchuu",
   "language": "python",
   "name": "new-env"
  },
  "language_info": {
   "codemirror_mode": {
    "name": "ipython",
    "version": 3
   },
   "file_extension": ".py",
   "mimetype": "text/x-python",
   "name": "python",
   "nbconvert_exporter": "python",
   "pygments_lexer": "ipython3",
   "version": "3.9.18"
  }
 },
 "nbformat": 4,
 "nbformat_minor": 5
}
